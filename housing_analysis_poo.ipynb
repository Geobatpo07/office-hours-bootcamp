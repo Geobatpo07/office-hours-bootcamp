{
 "cells": [
  {
   "metadata": {},
   "cell_type": "markdown",
   "source": [
    "# Housing Analysis with POO (Python Objet-oriented Programming) Approach\n",
    "This notebook demonstrates how to perform exploratory data analysis on a housing dataset using Python's object-oriented programming (POO) principles. The analysis includes data loading, processing, visualization, and linear regression modeling."
   ],
   "id": "ba851f8624cef210"
  },
  {
   "cell_type": "code",
   "id": "initial_id",
   "metadata": {
    "collapsed": true,
    "ExecuteTime": {
     "end_time": "2025-08-02T20:54:19.438010Z",
     "start_time": "2025-08-02T20:54:17.403941Z"
    }
   },
   "source": [
    "# Setup & Imports\n",
    "import pandas as pd\n",
    "import numpy as np\n",
    "import matplotlib.pyplot as plt\n",
    "import seaborn as sns\n",
    "import joblib\n",
    "import statsmodels.api as sm\n",
    "from statsmodels.tsa.seasonal import seasonal_decompose\n",
    "from sklearn.linear_model import LinearRegression\n",
    "from sklearn.model_selection import train_test_split\n",
    "from sklearn.metrics import r2_score, mean_squared_error\n",
    "import warnings\n",
    "warnings.filterwarnings('ignore')"
   ],
   "outputs": [],
   "execution_count": 1
  },
  {
   "metadata": {
    "ExecuteTime": {
     "end_time": "2025-08-02T20:54:26.176093Z",
     "start_time": "2025-08-02T20:54:26.145653Z"
    }
   },
   "cell_type": "code",
   "source": [
    "# Define the LogLinearModel class\n",
    "class LogLinearModel:\n",
    "    def __init__(self, file_path):\n",
    "        self.file_path = file_path\n",
    "        self.model = LinearRegression()\n",
    "        self.df = None\n",
    "        self.X = self.y = None\n",
    "        self.X_train = self.X_test = None\n",
    "        self.y_train = self.y_test = None\n",
    "        self.y_pred = self.y_log_pred = None\n",
    "\n",
    "    def load_and_prepare_data(self, target_column, drop_columns=[]):\n",
    "        self.df = pd.read_csv(self.file_path).dropna()\n",
    "        self.df = self.df.drop(columns=drop_columns)\n",
    "        self.y = self.df[target_column]\n",
    "        self.X = self.df.drop(columns=[target_column])\n",
    "\n",
    "        self.X_train, self.X_test, self.y_train, self.y_test = train_test_split(\n",
    "            self.X, self.y, test_size=0.2, random_state=42\n",
    "        )\n",
    "\n",
    "    def train(self):\n",
    "        y_log_train = np.log(self.y_train)\n",
    "        self.model.fit(self.X_train, y_log_train)\n",
    "\n",
    "    def predict(self):\n",
    "        self.y_log_pred = self.model.predict(self.X_test)\n",
    "        self.y_pred = np.exp(self.y_log_pred)\n",
    "\n",
    "    def evaluate(self):\n",
    "        if self.y_pred is None:\n",
    "            self.predict()\n",
    "        r2 = r2_score(self.y_test, self.y_pred)\n",
    "        rmse = mean_squared_error(self.y_test, self.y_pred, squared=False)\n",
    "        print(\"R²:\", round(r2, 3))\n",
    "        print(\"RMSE:\", round(rmse, 3))\n",
    "        print(\"\\nModel Coefficients:\")\n",
    "        for feature, coef in zip(self.X.columns, self.model.coef_):\n",
    "            print(f\"{feature}: {round(coef, 4)}\")\n",
    "\n",
    "    def plot_residuals(self):\n",
    "        if self.y_pred is None:\n",
    "            self.predict()\n",
    "        residuals = self.y_test - self.y_pred\n",
    "        plt.scatter(self.y_pred, residuals)\n",
    "        plt.axhline(0, color='red', linestyle='--')\n",
    "        plt.xlabel(\"Predicted Values\")\n",
    "        plt.ylabel(\"Residuals\")\n",
    "        plt.title(\"Residuals vs Predicted Values\")\n",
    "        plt.grid(True)\n",
    "        plt.show()\n",
    "\n",
    "    def plot_predictions_vs_actuals(self):\n",
    "        if self.y_pred is None:\n",
    "            self.predict()\n",
    "        plt.scatter(self.y_test, self.y_pred, alpha=0.7)\n",
    "        plt.plot([self.y_test.min(), self.y_test.max()],\n",
    "                 [self.y_test.min(), self.y_test.max()],\n",
    "                 'r--')\n",
    "        plt.xlabel(\"Actual Values\")\n",
    "        plt.ylabel(\"Predicted Values\")\n",
    "        plt.title(\"Predicted vs Actual\")\n",
    "        plt.grid(True)\n",
    "        plt.show()\n",
    "\n",
    "    def plot_qqplot(self):\n",
    "        if self.y_pred is None:\n",
    "            self.predict()\n",
    "        residuals = self.y_test - self.y_pred\n",
    "        sm.qqplot(residuals, line='45')\n",
    "        plt.title(\"Q-Q Plot of Residuals\")\n",
    "        plt.grid()\n",
    "        plt.show()\n",
    "\n",
    "    def save_model(self, filename=\"log_linear_model.pkl\"):\n",
    "        joblib.dump(self.model, filename)\n",
    "        print(f\"Model saved to {filename}\")\n",
    "\n",
    "    def load_model(self, filename=\"log_linear_model.pkl\"):\n",
    "        self.model = joblib.load(filename)\n",
    "        print(f\"Model loaded from {filename}\")\n",
    "\n",
    "    def get_feature_importance(self, plot=True):\n",
    "        if self.model is None or self.X is None:\n",
    "            return\n",
    "        importance = pd.Series(self.model.coef_, index=self.X.columns)\n",
    "        importance = importance.abs().sort_values(ascending=True)\n",
    "        if plot:\n",
    "            importance.plot(kind='barh')\n",
    "            plt.title(\"Feature Importance (Absolute Coefficients)\")\n",
    "            plt.grid()\n",
    "            plt.show()\n",
    "        return importance\n",
    "\n",
    "    def plot_time_series(self, date_column=\"Date\", target_column=\"TempMoyenne\", freq=\"M\"):\n",
    "        df = self.df.copy()\n",
    "        df[date_column] = pd.to_datetime(df[date_column], errors=\"coerce\")\n",
    "        df = df.dropna(subset=[date_column])\n",
    "        df.set_index(date_column, inplace=True)\n",
    "        ts = df[target_column].resample(freq).mean()\n",
    "        ts.plot(figsize=(12, 4), title=f\"{target_column} over time\")\n",
    "        plt.xlabel(\"Date\")\n",
    "        plt.ylabel(target_column)\n",
    "        plt.grid()\n",
    "        plt.show()\n",
    "\n",
    "    def plot_moving_average(self, date_column=\"Date\", target_column=\"TempMoyenne\", window=3):\n",
    "        df = self.df.copy()\n",
    "        df[date_column] = pd.to_datetime(df[date_column], errors=\"coerce\")\n",
    "        df = df.dropna(subset=[date_column])\n",
    "        df.set_index(date_column, inplace=True)\n",
    "        ts = df[target_column].resample(\"M\").mean()\n",
    "        ma = ts.rolling(window=window).mean()\n",
    "        ts.plot(label=\"Monthly Avg\", figsize=(12, 4))\n",
    "        ma.plot(label=f\"{window}-Month Moving Avg\")\n",
    "        plt.title(f\"{target_column} with Moving Average\")\n",
    "        plt.xlabel(\"Date\")\n",
    "        plt.ylabel(target_column)\n",
    "        plt.legend()\n",
    "        plt.grid()\n",
    "        plt.show()\n",
    "\n",
    "    def plot_seasonal_decomposition(self, date_column=\"Date\", target_column=\"TempMoyenne\", freq=\"M\", model=\"additive\"):\n",
    "        df = self.df.copy()\n",
    "        df[date_column] = pd.to_datetime(df[date_column], errors=\"coerce\")\n",
    "        df = df.dropna(subset=[date_column])\n",
    "        df.set_index(date_column, inplace=True)\n",
    "        ts = df[target_column].resample(freq).mean()\n",
    "        decomposition = seasonal_decompose(ts, model=model, period=12)\n",
    "        decomposition.plot()\n",
    "        plt.suptitle(\"Seasonal Decomposition\", fontsize=16)\n",
    "        plt.tight_layout()\n",
    "        plt.show()"
   ],
   "id": "d9009fcba1cb0c55",
   "outputs": [],
   "execution_count": 2
  },
  {
   "metadata": {
    "ExecuteTime": {
     "end_time": "2025-08-02T20:54:43.000942Z",
     "start_time": "2025-08-02T20:54:39.712801Z"
    }
   },
   "cell_type": "code",
   "source": [
    "# Initialize and use the LogLinearModel class\n",
    "model = LogLinearModel(\"./data/climat_haiti.csv\")\n",
    "model.load_and_prepare_data(target_column=\"TempMoyenne\", drop_columns=[\"Date\"])\n",
    "model.train()\n",
    "model.predict()\n",
    "model.evaluate()"
   ],
   "id": "197e78d568af1944",
   "outputs": [
    {
     "ename": "FileNotFoundError",
     "evalue": "[Errno 2] No such file or directory: './data/climat_haiti.csv'",
     "output_type": "error",
     "traceback": [
      "\u001B[31m---------------------------------------------------------------------------\u001B[39m",
      "\u001B[31mFileNotFoundError\u001B[39m                         Traceback (most recent call last)",
      "\u001B[36mCell\u001B[39m\u001B[36m \u001B[39m\u001B[32mIn[3]\u001B[39m\u001B[32m, line 3\u001B[39m\n\u001B[32m      1\u001B[39m \u001B[38;5;66;03m# Initialize and use the LogLinearModel class\u001B[39;00m\n\u001B[32m      2\u001B[39m model = LogLinearModel(\u001B[33m\"\u001B[39m\u001B[33m./data/climat_haiti.csv\u001B[39m\u001B[33m\"\u001B[39m)\n\u001B[32m----> \u001B[39m\u001B[32m3\u001B[39m \u001B[43mmodel\u001B[49m\u001B[43m.\u001B[49m\u001B[43mload_and_prepare_data\u001B[49m\u001B[43m(\u001B[49m\u001B[43mtarget_column\u001B[49m\u001B[43m=\u001B[49m\u001B[33;43m\"\u001B[39;49m\u001B[33;43mTempMoyenne\u001B[39;49m\u001B[33;43m\"\u001B[39;49m\u001B[43m,\u001B[49m\u001B[43m \u001B[49m\u001B[43mdrop_columns\u001B[49m\u001B[43m=\u001B[49m\u001B[43m[\u001B[49m\u001B[33;43m\"\u001B[39;49m\u001B[33;43mDate\u001B[39;49m\u001B[33;43m\"\u001B[39;49m\u001B[43m]\u001B[49m\u001B[43m)\u001B[49m\n\u001B[32m      4\u001B[39m model.train()\n\u001B[32m      5\u001B[39m model.predict()\n",
      "\u001B[36mCell\u001B[39m\u001B[36m \u001B[39m\u001B[32mIn[2]\u001B[39m\u001B[32m, line 13\u001B[39m, in \u001B[36mLogLinearModel.load_and_prepare_data\u001B[39m\u001B[34m(self, target_column, drop_columns)\u001B[39m\n\u001B[32m     12\u001B[39m \u001B[38;5;28;01mdef\u001B[39;00m\u001B[38;5;250m \u001B[39m\u001B[34mload_and_prepare_data\u001B[39m(\u001B[38;5;28mself\u001B[39m, target_column, drop_columns=[]):\n\u001B[32m---> \u001B[39m\u001B[32m13\u001B[39m     \u001B[38;5;28mself\u001B[39m.df = \u001B[43mpd\u001B[49m\u001B[43m.\u001B[49m\u001B[43mread_csv\u001B[49m\u001B[43m(\u001B[49m\u001B[38;5;28;43mself\u001B[39;49m\u001B[43m.\u001B[49m\u001B[43mfile_path\u001B[49m\u001B[43m)\u001B[49m.dropna()\n\u001B[32m     14\u001B[39m     \u001B[38;5;28mself\u001B[39m.df = \u001B[38;5;28mself\u001B[39m.df.drop(columns=drop_columns)\n\u001B[32m     15\u001B[39m     \u001B[38;5;28mself\u001B[39m.y = \u001B[38;5;28mself\u001B[39m.df[target_column]\n",
      "\u001B[36mFile \u001B[39m\u001B[32m~\\OneDrive\\Documents\\Data Analytics Projects\\office-hours-bootcamp\\.venv\\Lib\\site-packages\\pandas\\io\\parsers\\readers.py:1026\u001B[39m, in \u001B[36mread_csv\u001B[39m\u001B[34m(filepath_or_buffer, sep, delimiter, header, names, index_col, usecols, dtype, engine, converters, true_values, false_values, skipinitialspace, skiprows, skipfooter, nrows, na_values, keep_default_na, na_filter, verbose, skip_blank_lines, parse_dates, infer_datetime_format, keep_date_col, date_parser, date_format, dayfirst, cache_dates, iterator, chunksize, compression, thousands, decimal, lineterminator, quotechar, quoting, doublequote, escapechar, comment, encoding, encoding_errors, dialect, on_bad_lines, delim_whitespace, low_memory, memory_map, float_precision, storage_options, dtype_backend)\u001B[39m\n\u001B[32m   1013\u001B[39m kwds_defaults = _refine_defaults_read(\n\u001B[32m   1014\u001B[39m     dialect,\n\u001B[32m   1015\u001B[39m     delimiter,\n\u001B[32m   (...)\u001B[39m\u001B[32m   1022\u001B[39m     dtype_backend=dtype_backend,\n\u001B[32m   1023\u001B[39m )\n\u001B[32m   1024\u001B[39m kwds.update(kwds_defaults)\n\u001B[32m-> \u001B[39m\u001B[32m1026\u001B[39m \u001B[38;5;28;01mreturn\u001B[39;00m \u001B[43m_read\u001B[49m\u001B[43m(\u001B[49m\u001B[43mfilepath_or_buffer\u001B[49m\u001B[43m,\u001B[49m\u001B[43m \u001B[49m\u001B[43mkwds\u001B[49m\u001B[43m)\u001B[49m\n",
      "\u001B[36mFile \u001B[39m\u001B[32m~\\OneDrive\\Documents\\Data Analytics Projects\\office-hours-bootcamp\\.venv\\Lib\\site-packages\\pandas\\io\\parsers\\readers.py:620\u001B[39m, in \u001B[36m_read\u001B[39m\u001B[34m(filepath_or_buffer, kwds)\u001B[39m\n\u001B[32m    617\u001B[39m _validate_names(kwds.get(\u001B[33m\"\u001B[39m\u001B[33mnames\u001B[39m\u001B[33m\"\u001B[39m, \u001B[38;5;28;01mNone\u001B[39;00m))\n\u001B[32m    619\u001B[39m \u001B[38;5;66;03m# Create the parser.\u001B[39;00m\n\u001B[32m--> \u001B[39m\u001B[32m620\u001B[39m parser = \u001B[43mTextFileReader\u001B[49m\u001B[43m(\u001B[49m\u001B[43mfilepath_or_buffer\u001B[49m\u001B[43m,\u001B[49m\u001B[43m \u001B[49m\u001B[43m*\u001B[49m\u001B[43m*\u001B[49m\u001B[43mkwds\u001B[49m\u001B[43m)\u001B[49m\n\u001B[32m    622\u001B[39m \u001B[38;5;28;01mif\u001B[39;00m chunksize \u001B[38;5;129;01mor\u001B[39;00m iterator:\n\u001B[32m    623\u001B[39m     \u001B[38;5;28;01mreturn\u001B[39;00m parser\n",
      "\u001B[36mFile \u001B[39m\u001B[32m~\\OneDrive\\Documents\\Data Analytics Projects\\office-hours-bootcamp\\.venv\\Lib\\site-packages\\pandas\\io\\parsers\\readers.py:1620\u001B[39m, in \u001B[36mTextFileReader.__init__\u001B[39m\u001B[34m(self, f, engine, **kwds)\u001B[39m\n\u001B[32m   1617\u001B[39m     \u001B[38;5;28mself\u001B[39m.options[\u001B[33m\"\u001B[39m\u001B[33mhas_index_names\u001B[39m\u001B[33m\"\u001B[39m] = kwds[\u001B[33m\"\u001B[39m\u001B[33mhas_index_names\u001B[39m\u001B[33m\"\u001B[39m]\n\u001B[32m   1619\u001B[39m \u001B[38;5;28mself\u001B[39m.handles: IOHandles | \u001B[38;5;28;01mNone\u001B[39;00m = \u001B[38;5;28;01mNone\u001B[39;00m\n\u001B[32m-> \u001B[39m\u001B[32m1620\u001B[39m \u001B[38;5;28mself\u001B[39m._engine = \u001B[38;5;28;43mself\u001B[39;49m\u001B[43m.\u001B[49m\u001B[43m_make_engine\u001B[49m\u001B[43m(\u001B[49m\u001B[43mf\u001B[49m\u001B[43m,\u001B[49m\u001B[43m \u001B[49m\u001B[38;5;28;43mself\u001B[39;49m\u001B[43m.\u001B[49m\u001B[43mengine\u001B[49m\u001B[43m)\u001B[49m\n",
      "\u001B[36mFile \u001B[39m\u001B[32m~\\OneDrive\\Documents\\Data Analytics Projects\\office-hours-bootcamp\\.venv\\Lib\\site-packages\\pandas\\io\\parsers\\readers.py:1880\u001B[39m, in \u001B[36mTextFileReader._make_engine\u001B[39m\u001B[34m(self, f, engine)\u001B[39m\n\u001B[32m   1878\u001B[39m     \u001B[38;5;28;01mif\u001B[39;00m \u001B[33m\"\u001B[39m\u001B[33mb\u001B[39m\u001B[33m\"\u001B[39m \u001B[38;5;129;01mnot\u001B[39;00m \u001B[38;5;129;01min\u001B[39;00m mode:\n\u001B[32m   1879\u001B[39m         mode += \u001B[33m\"\u001B[39m\u001B[33mb\u001B[39m\u001B[33m\"\u001B[39m\n\u001B[32m-> \u001B[39m\u001B[32m1880\u001B[39m \u001B[38;5;28mself\u001B[39m.handles = \u001B[43mget_handle\u001B[49m\u001B[43m(\u001B[49m\n\u001B[32m   1881\u001B[39m \u001B[43m    \u001B[49m\u001B[43mf\u001B[49m\u001B[43m,\u001B[49m\n\u001B[32m   1882\u001B[39m \u001B[43m    \u001B[49m\u001B[43mmode\u001B[49m\u001B[43m,\u001B[49m\n\u001B[32m   1883\u001B[39m \u001B[43m    \u001B[49m\u001B[43mencoding\u001B[49m\u001B[43m=\u001B[49m\u001B[38;5;28;43mself\u001B[39;49m\u001B[43m.\u001B[49m\u001B[43moptions\u001B[49m\u001B[43m.\u001B[49m\u001B[43mget\u001B[49m\u001B[43m(\u001B[49m\u001B[33;43m\"\u001B[39;49m\u001B[33;43mencoding\u001B[39;49m\u001B[33;43m\"\u001B[39;49m\u001B[43m,\u001B[49m\u001B[43m \u001B[49m\u001B[38;5;28;43;01mNone\u001B[39;49;00m\u001B[43m)\u001B[49m\u001B[43m,\u001B[49m\n\u001B[32m   1884\u001B[39m \u001B[43m    \u001B[49m\u001B[43mcompression\u001B[49m\u001B[43m=\u001B[49m\u001B[38;5;28;43mself\u001B[39;49m\u001B[43m.\u001B[49m\u001B[43moptions\u001B[49m\u001B[43m.\u001B[49m\u001B[43mget\u001B[49m\u001B[43m(\u001B[49m\u001B[33;43m\"\u001B[39;49m\u001B[33;43mcompression\u001B[39;49m\u001B[33;43m\"\u001B[39;49m\u001B[43m,\u001B[49m\u001B[43m \u001B[49m\u001B[38;5;28;43;01mNone\u001B[39;49;00m\u001B[43m)\u001B[49m\u001B[43m,\u001B[49m\n\u001B[32m   1885\u001B[39m \u001B[43m    \u001B[49m\u001B[43mmemory_map\u001B[49m\u001B[43m=\u001B[49m\u001B[38;5;28;43mself\u001B[39;49m\u001B[43m.\u001B[49m\u001B[43moptions\u001B[49m\u001B[43m.\u001B[49m\u001B[43mget\u001B[49m\u001B[43m(\u001B[49m\u001B[33;43m\"\u001B[39;49m\u001B[33;43mmemory_map\u001B[39;49m\u001B[33;43m\"\u001B[39;49m\u001B[43m,\u001B[49m\u001B[43m \u001B[49m\u001B[38;5;28;43;01mFalse\u001B[39;49;00m\u001B[43m)\u001B[49m\u001B[43m,\u001B[49m\n\u001B[32m   1886\u001B[39m \u001B[43m    \u001B[49m\u001B[43mis_text\u001B[49m\u001B[43m=\u001B[49m\u001B[43mis_text\u001B[49m\u001B[43m,\u001B[49m\n\u001B[32m   1887\u001B[39m \u001B[43m    \u001B[49m\u001B[43merrors\u001B[49m\u001B[43m=\u001B[49m\u001B[38;5;28;43mself\u001B[39;49m\u001B[43m.\u001B[49m\u001B[43moptions\u001B[49m\u001B[43m.\u001B[49m\u001B[43mget\u001B[49m\u001B[43m(\u001B[49m\u001B[33;43m\"\u001B[39;49m\u001B[33;43mencoding_errors\u001B[39;49m\u001B[33;43m\"\u001B[39;49m\u001B[43m,\u001B[49m\u001B[43m \u001B[49m\u001B[33;43m\"\u001B[39;49m\u001B[33;43mstrict\u001B[39;49m\u001B[33;43m\"\u001B[39;49m\u001B[43m)\u001B[49m\u001B[43m,\u001B[49m\n\u001B[32m   1888\u001B[39m \u001B[43m    \u001B[49m\u001B[43mstorage_options\u001B[49m\u001B[43m=\u001B[49m\u001B[38;5;28;43mself\u001B[39;49m\u001B[43m.\u001B[49m\u001B[43moptions\u001B[49m\u001B[43m.\u001B[49m\u001B[43mget\u001B[49m\u001B[43m(\u001B[49m\u001B[33;43m\"\u001B[39;49m\u001B[33;43mstorage_options\u001B[39;49m\u001B[33;43m\"\u001B[39;49m\u001B[43m,\u001B[49m\u001B[43m \u001B[49m\u001B[38;5;28;43;01mNone\u001B[39;49;00m\u001B[43m)\u001B[49m\u001B[43m,\u001B[49m\n\u001B[32m   1889\u001B[39m \u001B[43m\u001B[49m\u001B[43m)\u001B[49m\n\u001B[32m   1890\u001B[39m \u001B[38;5;28;01massert\u001B[39;00m \u001B[38;5;28mself\u001B[39m.handles \u001B[38;5;129;01mis\u001B[39;00m \u001B[38;5;129;01mnot\u001B[39;00m \u001B[38;5;28;01mNone\u001B[39;00m\n\u001B[32m   1891\u001B[39m f = \u001B[38;5;28mself\u001B[39m.handles.handle\n",
      "\u001B[36mFile \u001B[39m\u001B[32m~\\OneDrive\\Documents\\Data Analytics Projects\\office-hours-bootcamp\\.venv\\Lib\\site-packages\\pandas\\io\\common.py:873\u001B[39m, in \u001B[36mget_handle\u001B[39m\u001B[34m(path_or_buf, mode, encoding, compression, memory_map, is_text, errors, storage_options)\u001B[39m\n\u001B[32m    868\u001B[39m \u001B[38;5;28;01melif\u001B[39;00m \u001B[38;5;28misinstance\u001B[39m(handle, \u001B[38;5;28mstr\u001B[39m):\n\u001B[32m    869\u001B[39m     \u001B[38;5;66;03m# Check whether the filename is to be opened in binary mode.\u001B[39;00m\n\u001B[32m    870\u001B[39m     \u001B[38;5;66;03m# Binary mode does not support 'encoding' and 'newline'.\u001B[39;00m\n\u001B[32m    871\u001B[39m     \u001B[38;5;28;01mif\u001B[39;00m ioargs.encoding \u001B[38;5;129;01mand\u001B[39;00m \u001B[33m\"\u001B[39m\u001B[33mb\u001B[39m\u001B[33m\"\u001B[39m \u001B[38;5;129;01mnot\u001B[39;00m \u001B[38;5;129;01min\u001B[39;00m ioargs.mode:\n\u001B[32m    872\u001B[39m         \u001B[38;5;66;03m# Encoding\u001B[39;00m\n\u001B[32m--> \u001B[39m\u001B[32m873\u001B[39m         handle = \u001B[38;5;28;43mopen\u001B[39;49m\u001B[43m(\u001B[49m\n\u001B[32m    874\u001B[39m \u001B[43m            \u001B[49m\u001B[43mhandle\u001B[49m\u001B[43m,\u001B[49m\n\u001B[32m    875\u001B[39m \u001B[43m            \u001B[49m\u001B[43mioargs\u001B[49m\u001B[43m.\u001B[49m\u001B[43mmode\u001B[49m\u001B[43m,\u001B[49m\n\u001B[32m    876\u001B[39m \u001B[43m            \u001B[49m\u001B[43mencoding\u001B[49m\u001B[43m=\u001B[49m\u001B[43mioargs\u001B[49m\u001B[43m.\u001B[49m\u001B[43mencoding\u001B[49m\u001B[43m,\u001B[49m\n\u001B[32m    877\u001B[39m \u001B[43m            \u001B[49m\u001B[43merrors\u001B[49m\u001B[43m=\u001B[49m\u001B[43merrors\u001B[49m\u001B[43m,\u001B[49m\n\u001B[32m    878\u001B[39m \u001B[43m            \u001B[49m\u001B[43mnewline\u001B[49m\u001B[43m=\u001B[49m\u001B[33;43m\"\u001B[39;49m\u001B[33;43m\"\u001B[39;49m\u001B[43m,\u001B[49m\n\u001B[32m    879\u001B[39m \u001B[43m        \u001B[49m\u001B[43m)\u001B[49m\n\u001B[32m    880\u001B[39m     \u001B[38;5;28;01melse\u001B[39;00m:\n\u001B[32m    881\u001B[39m         \u001B[38;5;66;03m# Binary mode\u001B[39;00m\n\u001B[32m    882\u001B[39m         handle = \u001B[38;5;28mopen\u001B[39m(handle, ioargs.mode)\n",
      "\u001B[31mFileNotFoundError\u001B[39m: [Errno 2] No such file or directory: './data/climat_haiti.csv'"
     ]
    }
   ],
   "execution_count": 3
  },
  {
   "metadata": {},
   "cell_type": "code",
   "outputs": [],
   "execution_count": null,
   "source": [
    "# Regression Diagnostics\n",
    "model.plot_predictions_vs_actuals()\n",
    "model.plot_residuals()\n",
    "model.plot_qqplot()\n",
    "model.get_feature_importance()"
   ],
   "id": "6142a9dfffe1c834"
  },
  {
   "metadata": {},
   "cell_type": "code",
   "outputs": [],
   "execution_count": null,
   "source": [
    "# Time Series Analysis\n",
    "model.plot_time_series(date_column=\"Date\", target_column=\"TempMoyenne\", freq=\"M\")\n",
    "model.plot_moving_average(date_column=\"Date\", target_column=\"TempMoyenne\", window=6)\n",
    "model.plot_seasonal_decomposition(date_column=\"Date\", target_column=\"TempMoyenne\", freq=\"M\", model=\"additive\")"
   ],
   "id": "33b6153ba39d1180"
  }
 ],
 "metadata": {
  "kernelspec": {
   "display_name": "Python 3",
   "language": "python",
   "name": "python3"
  },
  "language_info": {
   "codemirror_mode": {
    "name": "ipython",
    "version": 2
   },
   "file_extension": ".py",
   "mimetype": "text/x-python",
   "name": "python",
   "nbconvert_exporter": "python",
   "pygments_lexer": "ipython2",
   "version": "2.7.6"
  }
 },
 "nbformat": 4,
 "nbformat_minor": 5
}
